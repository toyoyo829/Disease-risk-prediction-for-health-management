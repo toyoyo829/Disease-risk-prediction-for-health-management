{
 "cells": [
  {
   "cell_type": "markdown",
   "metadata": {
    "_cell_guid": "ea25cdf7-bdbc-3cf1-0737-bc51675e3374",
    "_uuid": "fed5696c67bf55a553d6d04313a77e8c617cad99"
   },
   "source": [
    "# ♪健康経営のための疾患リスク予測\n",
    "# ~ AI Quest アセスメント ~"
   ]
  },
  {
   "cell_type": "code",
   "execution_count": 97,
   "metadata": {
    "_cell_guid": "5767a33c-8f18-4034-e52d-bf7a8f7d8ab8",
    "_uuid": "847a9b3972a6be2d2f3346ff01fea976d92ecdb6"
   },
   "outputs": [],
   "source": [
    "# データ分析・整理\n",
    "import pandas as pd\n",
    "import numpy as np\n",
    "import random as rnd\n",
    "import matplotlib.pyplot as plt\n",
    "import seaborn as sns\n",
    "\n",
    "# 機械学習\n",
    "from sklearn.model_selection import train_test_split\n",
    "from sklearn.linear_model import LogisticRegression\n",
    "from sklearn.metrics import roc_auc_score, roc_curve, classification_report, confusion_matrix, accuracy_score\n",
    "from sklearn.feature_selection import SelectFromModel\n",
    "from sklearn.preprocessing import LabelEncoder, MinMaxScaler\n",
    "from sklearn.svm import SVC\n",
    "from sklearn.ensemble import RandomForestClassifier\n",
    "from sklearn.preprocessing import normalize\n",
    "from sklearn.preprocessing import StandardScaler\n",
    "from sklearn.preprocessing import LabelEncoder, MinMaxScaler"
   ]
  },
  {
   "cell_type": "code",
   "execution_count": 98,
   "metadata": {
    "_cell_guid": "e7319668-86fe-8adc-438d-0eef3fd0a982",
    "_uuid": "13f38775c12ad6f914254a08f0d1ef948a2bd453"
   },
   "outputs": [],
   "source": [
    "# データ取得\n",
    "train_df = pd.read_csv('C:/Users/yktft/python/SIGNATE/健康経営のための疾患リスク予測/train.csv')\n",
    "test_df = pd.read_csv('C:/Users/yktft/python/SIGNATE/健康経営のための疾患リスク予測/test.csv')"
   ]
  },
  {
   "cell_type": "code",
   "execution_count": 99,
   "metadata": {},
   "outputs": [],
   "source": [
    "# 前処理\n",
    "train_df[\"AG_ratio\"].fillna(train_df[\"Alb\"] / (train_df[\"TP\"] - train_df[\"Alb\"]), inplace=True)\n",
    "test_df[\"AG_ratio\"].fillna(test_df[\"Alb\"] / (test_df[\"TP\"] - test_df[\"Alb\"]), inplace=True)\n",
    "\n",
    "train_df.drop_duplicates(inplace=True)\n",
    "test_df.drop_duplicates(inplace=True)\n",
    "\n",
    "train_df.reset_index(drop=True, inplace=True)\n",
    "test_df.reset_index(drop=True, inplace=True)\n",
    "\n",
    "train_df[\"Gender\"] = train_df[\"Gender\"].apply(lambda x: 1 if x==\"Male\" else 0)\n",
    "test_df[\"Gender\"] = test_df[\"Gender\"].apply(lambda x: 1 if x==\"Male\" else 0)\n",
    "\n",
    "X = train_df.drop([\"disease\"], axis=1)\n",
    "y = train_df[\"disease\"]\n",
    "\n",
    "# 標準化\n",
    "stdsc = StandardScaler()\n",
    "scaler = MinMaxScaler()\n",
    "X_target = pd.concat([pd.DataFrame(stdsc.fit_transform(X[['Age', 'T_Bil', 'D_Bil','ALP','ALT_GPT','AST_GOT','TP','Alb','AG_ratio']]),\n",
    "                            columns=['Age', 'T_Bil', 'D_Bil','ALP','ALT_GPT','AST_GOT','TP','Alb','AG_ratio']),\n",
    "                            X[['Gender']]],axis=1)\n",
    "test_df_scaled = pd.concat([pd.DataFrame(stdsc.transform(test_df[['Age', 'T_Bil', 'D_Bil','ALP','ALT_GPT','AST_GOT','TP','Alb','AG_ratio']]),\n",
    "                            columns=['Age', 'T_Bil', 'D_Bil','ALP','ALT_GPT','AST_GOT','TP','Alb','AG_ratio']),\n",
    "                            test_df[['Gender']]],axis=1)\n",
    "\n",
    "#X_target = X_target.drop([\"Gender\"], axis=1)\n",
    "#test_df_scaled = test_df_scaled.drop([\"Gender\"], axis=1)\n",
    "\n",
    "#X_target = X_target.drop([\"D_Bil\"], axis=1)\n",
    "#test_df_scaled = test_df_scaled.drop([\"D_Bil\"], axis=1)\n",
    "\n",
    "#X_target = X_target.drop([\"ALP\"], axis=1)\n",
    "#test_df_scaled = test_df_scaled.drop([\"ALP\"], axis=1)\n",
    "\n",
    "#X_target = X_target.drop([\"ALT_GPT\"], axis=1)\n",
    "#test_df_scaled = test_df_scaled.drop([\"ALT_GPT\"], axis=1)"
   ]
  },
  {
   "cell_type": "code",
   "execution_count": 100,
   "metadata": {},
   "outputs": [
    {
     "data": {
      "text/html": [
       "<div>\n",
       "<style scoped>\n",
       "    .dataframe tbody tr th:only-of-type {\n",
       "        vertical-align: middle;\n",
       "    }\n",
       "\n",
       "    .dataframe tbody tr th {\n",
       "        vertical-align: top;\n",
       "    }\n",
       "\n",
       "    .dataframe thead th {\n",
       "        text-align: right;\n",
       "    }\n",
       "</style>\n",
       "<table border=\"1\" class=\"dataframe\">\n",
       "  <thead>\n",
       "    <tr style=\"text-align: right;\">\n",
       "      <th></th>\n",
       "      <th>Age</th>\n",
       "      <th>T_Bil</th>\n",
       "      <th>D_Bil</th>\n",
       "      <th>ALP</th>\n",
       "      <th>ALT_GPT</th>\n",
       "      <th>AST_GOT</th>\n",
       "      <th>TP</th>\n",
       "      <th>Alb</th>\n",
       "      <th>AG_ratio</th>\n",
       "      <th>Gender</th>\n",
       "    </tr>\n",
       "  </thead>\n",
       "  <tbody>\n",
       "    <tr>\n",
       "      <th>0</th>\n",
       "      <td>0.753431</td>\n",
       "      <td>-0.335955</td>\n",
       "      <td>-0.290949</td>\n",
       "      <td>-0.259863</td>\n",
       "      <td>-0.195492</td>\n",
       "      <td>-0.356975</td>\n",
       "      <td>-0.257757</td>\n",
       "      <td>-0.724042</td>\n",
       "      <td>-0.606631</td>\n",
       "      <td>1</td>\n",
       "    </tr>\n",
       "    <tr>\n",
       "      <th>1</th>\n",
       "      <td>1.361556</td>\n",
       "      <td>-0.247057</td>\n",
       "      <td>-0.262171</td>\n",
       "      <td>-0.254671</td>\n",
       "      <td>0.062088</td>\n",
       "      <td>0.033929</td>\n",
       "      <td>-0.169826</td>\n",
       "      <td>-0.832608</td>\n",
       "      <td>-1.731472</td>\n",
       "      <td>1</td>\n",
       "    </tr>\n",
       "    <tr>\n",
       "      <th>2</th>\n",
       "      <td>1.118306</td>\n",
       "      <td>-0.389083</td>\n",
       "      <td>-0.335085</td>\n",
       "      <td>0.242516</td>\n",
       "      <td>-0.201270</td>\n",
       "      <td>-0.276256</td>\n",
       "      <td>-1.290839</td>\n",
       "      <td>-1.837506</td>\n",
       "      <td>-1.627531</td>\n",
       "      <td>1</td>\n",
       "    </tr>\n",
       "    <tr>\n",
       "      <th>3</th>\n",
       "      <td>1.118306</td>\n",
       "      <td>-0.286844</td>\n",
       "      <td>-0.250342</td>\n",
       "      <td>0.484775</td>\n",
       "      <td>-0.052323</td>\n",
       "      <td>-0.059131</td>\n",
       "      <td>-0.077493</td>\n",
       "      <td>0.172224</td>\n",
       "      <td>-0.688739</td>\n",
       "      <td>1</td>\n",
       "    </tr>\n",
       "    <tr>\n",
       "      <th>4</th>\n",
       "      <td>-1.496631</td>\n",
       "      <td>0.052258</td>\n",
       "      <td>-0.260844</td>\n",
       "      <td>-0.246862</td>\n",
       "      <td>-0.146773</td>\n",
       "      <td>0.990291</td>\n",
       "      <td>-1.422039</td>\n",
       "      <td>-0.801915</td>\n",
       "      <td>-0.519213</td>\n",
       "      <td>0</td>\n",
       "    </tr>\n",
       "    <tr>\n",
       "      <th>...</th>\n",
       "      <td>...</td>\n",
       "      <td>...</td>\n",
       "      <td>...</td>\n",
       "      <td>...</td>\n",
       "      <td>...</td>\n",
       "      <td>...</td>\n",
       "      <td>...</td>\n",
       "      <td>...</td>\n",
       "      <td>...</td>\n",
       "      <td>...</td>\n",
       "    </tr>\n",
       "    <tr>\n",
       "      <th>845</th>\n",
       "      <td>-1.314194</td>\n",
       "      <td>-0.343913</td>\n",
       "      <td>-0.268011</td>\n",
       "      <td>-0.282450</td>\n",
       "      <td>-0.192094</td>\n",
       "      <td>-0.371224</td>\n",
       "      <td>-0.246754</td>\n",
       "      <td>0.187604</td>\n",
       "      <td>0.674411</td>\n",
       "      <td>1</td>\n",
       "    </tr>\n",
       "    <tr>\n",
       "      <th>846</th>\n",
       "      <td>0.631806</td>\n",
       "      <td>-0.302763</td>\n",
       "      <td>-0.286804</td>\n",
       "      <td>-0.291669</td>\n",
       "      <td>-0.187972</td>\n",
       "      <td>-0.371573</td>\n",
       "      <td>0.568460</td>\n",
       "      <td>0.181706</td>\n",
       "      <td>0.670500</td>\n",
       "      <td>1</td>\n",
       "    </tr>\n",
       "    <tr>\n",
       "      <th>847</th>\n",
       "      <td>0.206119</td>\n",
       "      <td>-0.319617</td>\n",
       "      <td>-0.298346</td>\n",
       "      <td>-0.209115</td>\n",
       "      <td>-0.010171</td>\n",
       "      <td>-0.103554</td>\n",
       "      <td>0.592201</td>\n",
       "      <td>0.369809</td>\n",
       "      <td>-0.693678</td>\n",
       "      <td>1</td>\n",
       "    </tr>\n",
       "    <tr>\n",
       "      <th>848</th>\n",
       "      <td>-0.888506</td>\n",
       "      <td>-0.346157</td>\n",
       "      <td>-0.298939</td>\n",
       "      <td>-0.289870</td>\n",
       "      <td>-0.164083</td>\n",
       "      <td>-0.059698</td>\n",
       "      <td>-1.294305</td>\n",
       "      <td>-0.654882</td>\n",
       "      <td>0.335604</td>\n",
       "      <td>0</td>\n",
       "    </tr>\n",
       "    <tr>\n",
       "      <th>849</th>\n",
       "      <td>1.057493</td>\n",
       "      <td>-0.345853</td>\n",
       "      <td>-0.247625</td>\n",
       "      <td>-0.287123</td>\n",
       "      <td>-0.178913</td>\n",
       "      <td>-0.329169</td>\n",
       "      <td>-0.314045</td>\n",
       "      <td>0.301349</td>\n",
       "      <td>0.727975</td>\n",
       "      <td>1</td>\n",
       "    </tr>\n",
       "  </tbody>\n",
       "</table>\n",
       "<p>850 rows × 10 columns</p>\n",
       "</div>"
      ],
      "text/plain": [
       "          Age     T_Bil     D_Bil       ALP   ALT_GPT   AST_GOT        TP  \\\n",
       "0    0.753431 -0.335955 -0.290949 -0.259863 -0.195492 -0.356975 -0.257757   \n",
       "1    1.361556 -0.247057 -0.262171 -0.254671  0.062088  0.033929 -0.169826   \n",
       "2    1.118306 -0.389083 -0.335085  0.242516 -0.201270 -0.276256 -1.290839   \n",
       "3    1.118306 -0.286844 -0.250342  0.484775 -0.052323 -0.059131 -0.077493   \n",
       "4   -1.496631  0.052258 -0.260844 -0.246862 -0.146773  0.990291 -1.422039   \n",
       "..        ...       ...       ...       ...       ...       ...       ...   \n",
       "845 -1.314194 -0.343913 -0.268011 -0.282450 -0.192094 -0.371224 -0.246754   \n",
       "846  0.631806 -0.302763 -0.286804 -0.291669 -0.187972 -0.371573  0.568460   \n",
       "847  0.206119 -0.319617 -0.298346 -0.209115 -0.010171 -0.103554  0.592201   \n",
       "848 -0.888506 -0.346157 -0.298939 -0.289870 -0.164083 -0.059698 -1.294305   \n",
       "849  1.057493 -0.345853 -0.247625 -0.287123 -0.178913 -0.329169 -0.314045   \n",
       "\n",
       "          Alb  AG_ratio  Gender  \n",
       "0   -0.724042 -0.606631       1  \n",
       "1   -0.832608 -1.731472       1  \n",
       "2   -1.837506 -1.627531       1  \n",
       "3    0.172224 -0.688739       1  \n",
       "4   -0.801915 -0.519213       0  \n",
       "..        ...       ...     ...  \n",
       "845  0.187604  0.674411       1  \n",
       "846  0.181706  0.670500       1  \n",
       "847  0.369809 -0.693678       1  \n",
       "848 -0.654882  0.335604       0  \n",
       "849  0.301349  0.727975       1  \n",
       "\n",
       "[850 rows x 10 columns]"
      ]
     },
     "execution_count": 100,
     "metadata": {},
     "output_type": "execute_result"
    }
   ],
   "source": [
    "X_target"
   ]
  },
  {
   "cell_type": "code",
   "execution_count": 101,
   "metadata": {},
   "outputs": [
    {
     "data": {
      "image/png": "[encoded data removed]",
      "text/plain": [
       "<Figure size 1296x576 with 1 Axes>"
      ]
     },
     "metadata": {},
     "output_type": "display_data"
    },
    {
     "data": {
      "image/png": "[encoded data removed]",
      "text/plain": [
       "<Figure size 1152x576 with 2 Axes>"
      ]
     },
     "metadata": {},
     "output_type": "display_data"
    }
   ],
   "source": [
    "def plot_data(df_name):\n",
    "    \"\"\"\n",
    "    This function is plotting the box plot of the dataframe.\n",
    "\n",
    "    Parameters\n",
    "    ----------\n",
    "    df_name : DataFrame\n",
    "        DESCRIPTION.\n",
    "\n",
    "    Returns\n",
    "    -------\n",
    "    None.\n",
    "\n",
    "    \"\"\"\n",
    "    with plt.style.context('seaborn'):\n",
    "        plt.figure(figsize=(18,8))\n",
    "        sns.boxplot(data=df_name.iloc[:,:])\n",
    "        plt.title(\"Box-Plot Post Outliers Removal\",fontdict={'size':12,'color':'blue','style':'oblique','family':'calibri'})\n",
    "        plt.xticks(size=12,rotation=90,style='oblique',color='coral')\n",
    "    plt.show()\n",
    "    \n",
    "    with plt.style.context('seaborn'):\n",
    "        plt.figure(figsize=(16,8))\n",
    "        sns.heatmap(df_name.corr(),cmap='coolwarm',annot=True,cbar=True,linecolor='k',linewidths=0.9)\n",
    "        plt.title(\"Heatmap Post Outliers Removal\",fontdict={'size':12,'color':'blue','style':'oblique','family':'calibri'})\n",
    "        plt.xticks(size=12,rotation=90,style='oblique',color='coral')\n",
    "    plt.show()\n",
    "\n",
    "plot_data(X_target.iloc[:,:7])"
   ]
  },
  {
   "cell_type": "code",
   "execution_count": 102,
   "metadata": {},
   "outputs": [],
   "source": [
    "# 学習用・評価用データの分割（元の説明変数Xの代わりに、特徴量選択後のX_polynomial_maskedを使う）\n",
    "X_train, X_test, y_train, y_test = train_test_split(X_target, y, test_size=0.01, random_state=100)"
   ]
  },
  {
   "cell_type": "code",
   "execution_count": 103,
   "metadata": {},
   "outputs": [
    {
     "name": "stdout",
     "output_type": "stream",
     "text": [
      "AUC: 0.65\n"
     ]
    }
   ],
   "source": [
    "# モデルの学習・予測\n",
    "lr = LogisticRegression()\n",
    "lr.fit(X_train, y_train)\n",
    "y_pred = lr.predict_proba(X_test)[:, 1]\n",
    "\n",
    "# ROC曲線の描画（偽陽性率、真陽性率、閾値の算出）\n",
    "#fpr, tpr, thresholds = roc_curve(y_true=y_test, y_score=y_pred)\n",
    "#plt.plot(fpr, tpr, label='roc curve')\n",
    "#plt.plot([0, 1], [0, 1], linestyle=':', label='random')\n",
    "#plt.plot([0, 0, 1], [0, 1, 1], linestyle=':', label='ideal')\n",
    "#plt.legend()\n",
    "#plt.xlabel('false positive rate')\n",
    "#plt.ylabel('true positive rate')\n",
    "#plt.show()\n",
    "\n",
    "# AUCスコアの算出\n",
    "auc_score = roc_auc_score(y_true=y_test, y_score=y_pred)\n",
    "print(\"AUC:\", auc_score)"
   ]
  },
  {
   "cell_type": "code",
   "execution_count": 104,
   "metadata": {},
   "outputs": [
    {
     "data": {
      "text/plain": [
       "RandomForestClassifier(bootstrap=True, ccp_alpha=0.0,\n",
       "                       class_weight={0: 0.66, 1: 0.37}, criterion='gini',\n",
       "                       max_depth=10, max_features='auto', max_leaf_nodes=None,\n",
       "                       max_samples=None, min_impurity_decrease=0.0,\n",
       "                       min_impurity_split=None, min_samples_leaf=2,\n",
       "                       min_samples_split=2, min_weight_fraction_leaf=0.0,\n",
       "                       n_estimators=25, n_jobs=None, oob_score=False,\n",
       "                       random_state=11, verbose=0, warm_start=False)"
      ]
     },
     "execution_count": 104,
     "metadata": {},
     "output_type": "execute_result"
    }
   ],
   "source": [
    "rfc = RandomForestClassifier(\n",
    "                                    n_estimators=25,random_state=11,\n",
    "                                    max_depth=10,\n",
    "                                    min_samples_split=2,\n",
    "                                    class_weight={0:0.66,1:0.37},\n",
    "                                    min_samples_leaf=2,\n",
    "                                    max_features='auto'\n",
    "                                    )\n",
    "\n",
    "rfc.fit(X_train, y_train)\n",
    "y_pred = rfc.predict_proba(X_test)[:, 1]\n",
    "auc_score = roc_auc_score(y_true=y_test, y_score=y_pred)\n",
    "print(\"AUC:\", auc_score)"
   ]
  },
  {
   "cell_type": "markdown",
   "metadata": {
    "_cell_guid": "69783c08-c8cc-a6ca-2a9a-5e75581c6d31",
    "_uuid": "a55f20dd6654610ff2d66c1bf3e4c6c73dcef9e5"
   },
   "source": [
    "## ♪ モデル、予測、解決\n",
    "\n",
    "- ロジスティック回帰"
   ]
  },
  {
   "cell_type": "code",
   "execution_count": 106,
   "metadata": {
    "_cell_guid": "28854d36-051f-3ef0-5535-fa5ba6a9bef7",
    "_uuid": "82b31ea933b3026bd038a8370d651efdcdb3e4d7",
    "scrolled": false
   },
   "outputs": [],
   "source": [
    "#y_pred_submit = lr.predict_proba(test_df_scaled)[:, 1]\n",
    "y_pred_submit = rfc.predict_proba(test_df_scaled)[:, 1]\n",
    "\n",
    "#submission = pd.DataFrame({\n",
    "#    \"y\": y_pred_submit\n",
    "#})\n",
    "#submission.to_csv(\"submit.csv\", index=False)\n",
    "\n",
    "\n",
    "np.savetxt('submit.csv', y_pred_submit, delimiter=',')\n",
    "#y_pred_submit"
   ]
  }
 ],
 "metadata": {
  "kernelspec": {
   "display_name": "Python 3",
   "language": "python",
   "name": "python3"
  },
  "language_info": {
   "codemirror_mode": {
    "name": "ipython",
    "version": 3
   },
   "file_extension": ".py",
   "mimetype": "text/x-python",
   "name": "python",
   "nbconvert_exporter": "python",
   "pygments_lexer": "ipython3",
   "version": "3.7.6"
  }
 },
 "nbformat": 4,
 "nbformat_minor": 4
}
